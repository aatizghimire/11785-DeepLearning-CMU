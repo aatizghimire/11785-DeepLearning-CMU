{
  "nbformat": 4,
  "nbformat_minor": 0,
  "metadata": {
    "colab": {
      "provenance": []
    },
    "kernelspec": {
      "name": "python3",
      "display_name": "Python 3"
    },
    "language_info": {
      "name": "python"
    }
  },
  "cells": [
    {
      "cell_type": "markdown",
      "source": [
        "# DATA TYPES"
      ],
      "metadata": {
        "id": "a_-J3h51pgpA"
      }
    },
    {
      "cell_type": "markdown",
      "source": [
        "###1. **Numeric Data Types**\n",
        "* integer (int) represents whole number\n",
        "* floating point type (float) represents decimal numbers\n",
        "\n",
        "\n",
        "\n"
      ],
      "metadata": {
        "id": "xL5sbWl4s9OT"
      }
    },
    {
      "cell_type": "code",
      "source": [
        "age = 23  #int\n",
        "pi = 3.14 #float\n",
        "temperature = -5.5 #float\n",
        "\n",
        "print(\"data type of variable age = \", type(age))\n",
        "print(\"data type of variable pi = \", type(pi))\n",
        "print(\"data type of variable temperature = \", type(temperature))"
      ],
      "metadata": {
        "id": "840Lx4V2pweW",
        "colab": {
          "base_uri": "https://localhost:8080/"
        },
        "outputId": "4f3a000b-5504-4fee-b187-7efbf0be1e61"
      },
      "execution_count": null,
      "outputs": [
        {
          "output_type": "stream",
          "name": "stdout",
          "text": [
            "data type of variable age =  <class 'int'>\n",
            "data type of variable pi =  <class 'float'>\n",
            "data type of variable temperature =  <class 'float'>\n"
          ]
        }
      ]
    },
    {
      "cell_type": "markdown",
      "source": [
        "###2. **String Data Type**\n",
        "  string (str) represents sequence of characters enclosed by double quotes or single quotes."
      ],
      "metadata": {
        "id": "RudLM1JbuSKU"
      }
    },
    {
      "cell_type": "code",
      "source": [
        "name = \"Alice\"\n",
        "greeting = 'Hello'\n",
        "address = \"123 Main St\"\n",
        "\n",
        "print(\"data type of the variable name = \",type(name))\n",
        "print(\"data type of the variable greeting = \",type(greeting))\n",
        "print(\"data type of the variable address = \",type(address))"
      ],
      "metadata": {
        "colab": {
          "base_uri": "https://localhost:8080/"
        },
        "id": "QZL-M91uuQyZ",
        "outputId": "9c945dec-07da-475e-a2e2-758bd3e4d16b"
      },
      "execution_count": null,
      "outputs": [
        {
          "output_type": "stream",
          "name": "stdout",
          "text": [
            "data type of the variable name =  <class 'str'>\n",
            "data type of the variable greeting =  <class 'str'>\n",
            "data type of the variable address =  <class 'str'>\n"
          ]
        }
      ]
    },
    {
      "cell_type": "markdown",
      "source": [
        "###3. **Boolean Type**\n",
        "\n",
        "Boolean (bool) represents a boolean value, either True or False."
      ],
      "metadata": {
        "id": "aa9hpHBXvo8S"
      }
    },
    {
      "cell_type": "code",
      "source": [
        "is_student = True\n",
        "has_license = False\n",
        "\n",
        "print(\"data type of the variable is_student = \",type(is_student))\n",
        "print(\"data type of the variable has_license = \",type(has_license))"
      ],
      "metadata": {
        "colab": {
          "base_uri": "https://localhost:8080/"
        },
        "id": "ypssh6MOv6EF",
        "outputId": "f5149c54-ab20-4176-ed8d-d753b9bc969c"
      },
      "execution_count": null,
      "outputs": [
        {
          "output_type": "stream",
          "name": "stdout",
          "text": [
            "data type of the variable is_student =  <class 'bool'>\n",
            "data type of the variable has_license =  <class 'bool'>\n"
          ]
        }
      ]
    },
    {
      "cell_type": "markdown",
      "source": [
        "###4. **List**\n",
        "    \n",
        "'list' represents an ordered, mutable collection of elements."
      ],
      "metadata": {
        "id": "1rOmwvohwUdX"
      }
    },
    {
      "cell_type": "code",
      "source": [
        "list1 = [1, 2, 3, 4]\n",
        "mixed_list = [12, \"Hello\", True]"
      ],
      "metadata": {
        "id": "xi0bFzgJwim0"
      },
      "execution_count": null,
      "outputs": []
    },
    {
      "cell_type": "markdown",
      "source": [
        "###5. **Tuple**\n",
        "\n",
        "'tuple' represents an ordered, immutable collection of elements."
      ],
      "metadata": {
        "id": "Q8ufYlWVxGVE"
      }
    },
    {
      "cell_type": "code",
      "source": [
        "colors = ('red', 'green', 'yellow', 'blue')"
      ],
      "metadata": {
        "id": "JiuVpd_1xb3J"
      },
      "execution_count": null,
      "outputs": []
    },
    {
      "cell_type": "markdown",
      "source": [
        "###6. **Dictionary**\n",
        "\n",
        "'dict' represents a collection of key-value pairs."
      ],
      "metadata": {
        "id": "DfKZNz-IxqHG"
      }
    },
    {
      "cell_type": "code",
      "source": [
        "person = {'name':'John','age':30,'city':'Pitt'}\n",
        "\n",
        "print(f\"Hello my name is {person['name']}. I am {person['age']} years old and I live at {person['city']}.\")"
      ],
      "metadata": {
        "colab": {
          "base_uri": "https://localhost:8080/"
        },
        "id": "A4LLvVQtx5kg",
        "outputId": "ea2cce59-2741-4f32-bee2-a10aed6fc22e"
      },
      "execution_count": null,
      "outputs": [
        {
          "output_type": "stream",
          "name": "stdout",
          "text": [
            "Hello my name is John. I am 30 years old and I live at Pitt.\n"
          ]
        }
      ]
    },
    {
      "cell_type": "markdown",
      "source": [
        "###7. **Set**\n",
        "\n",
        "'set' represents an unordered, immutable collection of elements that are unique."
      ],
      "metadata": {
        "id": "iq8lF1QUzrjw"
      }
    },
    {
      "cell_type": "code",
      "source": [
        "unique_numbers = {1,2,3,3,3,3,4,5}\n",
        "\n",
        "print(unique_numbers)"
      ],
      "metadata": {
        "colab": {
          "base_uri": "https://localhost:8080/"
        },
        "id": "uY9jQ-d60AJB",
        "outputId": "d288f18d-dd35-4cdb-e6fd-d523a9741ed1"
      },
      "execution_count": null,
      "outputs": [
        {
          "output_type": "stream",
          "name": "stdout",
          "text": [
            "{1, 2, 3, 4, 5}\n"
          ]
        }
      ]
    },
    {
      "cell_type": "markdown",
      "source": [
        "###8. **NoneType**\n",
        "\n",
        "It represents the absence of a value, which similar to null in other languages"
      ],
      "metadata": {
        "id": "vsRQ6Qtn0aKk"
      }
    },
    {
      "cell_type": "code",
      "source": [
        "result = None"
      ],
      "metadata": {
        "id": "QCPIZk8q0ugj"
      },
      "execution_count": null,
      "outputs": []
    },
    {
      "cell_type": "markdown",
      "source": [
        "# LOGICAL STATEMENTS AND LOOPS"
      ],
      "metadata": {
        "id": "dujNkwzapw5u"
      }
    },
    {
      "cell_type": "markdown",
      "source": [
        "###1. **if and else statement :**\n",
        "\n",
        "It allows conditional execution of code based on the evaluation of a given condition.\n"
      ],
      "metadata": {
        "id": "va3q9uIpvmoy"
      }
    },
    {
      "cell_type": "code",
      "source": [
        "num = 10\n",
        "if num > 0:\n",
        "    print(\"Positive\")\n",
        "else:\n",
        "    print(\"Non-positive\")\n"
      ],
      "metadata": {
        "id": "Li-d7Tgfp7vN",
        "colab": {
          "base_uri": "https://localhost:8080/"
        },
        "outputId": "bd728291-28e6-450d-d4fa-1f38defd78e1"
      },
      "execution_count": null,
      "outputs": [
        {
          "output_type": "stream",
          "name": "stdout",
          "text": [
            "Positive\n"
          ]
        }
      ]
    },
    {
      "cell_type": "markdown",
      "source": [
        "###2. **and, or, and not operators:**\n",
        "\n",
        "  These operators are used for combining conditions and negating them.\n"
      ],
      "metadata": {
        "id": "UvQcAxW82IYa"
      }
    },
    {
      "cell_type": "code",
      "source": [
        "x = 5\n",
        "y = 10\n",
        "if x > 0 and y < 20:\n",
        "    print(\"Both conditions are true\")\n",
        "if x > 0 or y > 20:\n",
        "    print(\"At least one condition is true\")\n",
        "if not x == 0:\n",
        "    print(\"x is not equal to 0\")\n",
        "\n"
      ],
      "metadata": {
        "colab": {
          "base_uri": "https://localhost:8080/"
        },
        "id": "f9Tadjb52TNJ",
        "outputId": "e1f20d1a-7a0d-4b22-8ae7-19f577091912"
      },
      "execution_count": null,
      "outputs": [
        {
          "output_type": "stream",
          "name": "stdout",
          "text": [
            "Both conditions are true\n",
            "At least one condition is true\n",
            "x is not equal to 0\n"
          ]
        }
      ]
    },
    {
      "cell_type": "markdown",
      "source": [
        "###3. **for  loop:**\n",
        "\n",
        "It iterates over a sequence (e.g., list, tuple, string) and performs actions for each element.\n"
      ],
      "metadata": {
        "id": "VAGaG_Ot2gOm"
      }
    },
    {
      "cell_type": "code",
      "source": [
        "fruits = [\"apple\", \"banana\",\"cherry\"]\n",
        "\n",
        "for fruit in fruits:\n",
        "    print(fruit)\n",
        "\n"
      ],
      "metadata": {
        "colab": {
          "base_uri": "https://localhost:8080/"
        },
        "id": "Scwqs21u2iYo",
        "outputId": "769c3443-36ee-4dab-befa-3d739e16a110"
      },
      "execution_count": null,
      "outputs": [
        {
          "output_type": "stream",
          "name": "stdout",
          "text": [
            "apple\n",
            "banana\n",
            "cherry\n"
          ]
        }
      ]
    },
    {
      "cell_type": "markdown",
      "source": [
        "###4. **while loop:**\n",
        "\n",
        "It repeatedly executes a block of code as long as a given condition is true.\n"
      ],
      "metadata": {
        "id": "q7UlfypZ2mRH"
      }
    },
    {
      "cell_type": "code",
      "source": [
        "count = 0\n",
        "while count < 5:\n",
        "    print(\"Count is:\", count)\n",
        "    count += 1\n"
      ],
      "metadata": {
        "colab": {
          "base_uri": "https://localhost:8080/"
        },
        "id": "jnPjbrmL2vLs",
        "outputId": "931e8b3e-f821-440c-ef40-4a5c497783af"
      },
      "execution_count": null,
      "outputs": [
        {
          "output_type": "stream",
          "name": "stdout",
          "text": [
            "Count is: 0\n",
            "Count is: 1\n",
            "Count is: 2\n",
            "Count is: 3\n",
            "Count is: 4\n"
          ]
        }
      ]
    },
    {
      "cell_type": "markdown",
      "source": [
        "# FUNCTIONS"
      ],
      "metadata": {
        "id": "wPvipry-p-PW"
      }
    },
    {
      "cell_type": "markdown",
      "source": [
        "###1. **Built-in Functions**\n",
        "\n",
        "print(), min(), max(), len(), range(), type() etc.\n",
        "\n",
        "  These functions are already provided as part of python."
      ],
      "metadata": {
        "id": "klaL441u24-u"
      }
    },
    {
      "cell_type": "code",
      "source": [
        "fruits = [\"apple\", \"banana\",\"cherry\"]\n",
        "print(len(fruits))\n"
      ],
      "metadata": {
        "id": "344GDlvRqBzF",
        "colab": {
          "base_uri": "https://localhost:8080/"
        },
        "outputId": "1aa1f0bd-a15c-4fef-a341-ca4137c0bf13"
      },
      "execution_count": null,
      "outputs": [
        {
          "output_type": "stream",
          "name": "stdout",
          "text": [
            "3\n"
          ]
        }
      ]
    },
    {
      "cell_type": "markdown",
      "source": [
        "###2.  **Built-in Methods**\n",
        "\n",
        "  Data types in python have “methods” associated with them - functions specifically designed to operate on instances of that data type\n"
      ],
      "metadata": {
        "id": "UYX3dbVC3RuH"
      }
    },
    {
      "cell_type": "code",
      "source": [
        "name = \"john\"\n",
        "print(\"Name in upper case = \", name.upper())\n",
        "\n",
        "l = [1,2,3,4]\n",
        "l.append(5)\n",
        "print(\"List after appending\",l)\n",
        "\n",
        "person = {'name':'John','age':30,'city':'Pitt'}\n",
        "print(\"Keys of the dictionary person\", person.keys())\n",
        "\n",
        "# for more methods explore https://www.w3schools.com/python/python_ref_functions.asp"
      ],
      "metadata": {
        "colab": {
          "base_uri": "https://localhost:8080/"
        },
        "id": "RkPpeWJg3kGt",
        "outputId": "501fc06b-9b9b-4d5e-875c-b83f52e157ff"
      },
      "execution_count": null,
      "outputs": [
        {
          "output_type": "stream",
          "name": "stdout",
          "text": [
            "Name in upper case =  JOHN\n",
            "List after appending [1, 2, 3, 4, 5]\n",
            "Keys of the dictionary person dict_keys(['name', 'age', 'city'])\n"
          ]
        }
      ]
    },
    {
      "cell_type": "markdown",
      "source": [
        "###3. **User Defined Functions**\n",
        "\n",
        "  Functions we define ourselves to perform specific task.\n",
        "\n",
        "  User-defined functions help to decompose a large program into small segments which makes the program easy to understand, maintain and debug.\n"
      ],
      "metadata": {
        "id": "dPOv62Y65Pex"
      }
    },
    {
      "cell_type": "code",
      "source": [
        "def print_something():\n",
        "    if 3 < 5:\n",
        "        print(\"Dumb! 3 is always less than 5\")\n",
        "    else:\n",
        "        print(\"I can never reach here\")\n",
        "    return\n",
        "\n",
        "print_something()"
      ],
      "metadata": {
        "colab": {
          "base_uri": "https://localhost:8080/"
        },
        "id": "z_RT7iYB5NyM",
        "outputId": "86df46bf-943b-4135-d757-f68f959f207f"
      },
      "execution_count": null,
      "outputs": [
        {
          "output_type": "stream",
          "name": "stdout",
          "text": [
            "Dumb! 3 is always less than 5\n"
          ]
        }
      ]
    },
    {
      "cell_type": "markdown",
      "source": [
        "### 4. **Recursion**\n",
        "\n",
        "1. What is Recursion?\n",
        "   - Recursion is a programming technique where a function calls itself to solve a problem.\n",
        "\n",
        "2. Key Concepts:\n",
        "   - Base Case: The condition that stops the recursion.\n",
        "   - Recursive Case: The problem is broken down into smaller sub-problems of the same type.\n",
        "\n",
        "3. How Recursion Works:\n",
        "   - Function calls itself until base case is reached.\n",
        "   - Smaller sub-problems are solved before combining results.\n",
        "\n",
        "4. Example: Factorial Calculation\n",
        "   - n! = n * (n-1) * (n-2) * ... * 1\n",
        "   - Base case: 0! = 1\n",
        "   - Recursive case: n! = n * (n-1)!\n",
        "\n"
      ],
      "metadata": {
        "id": "OjK2ItkN5fbD"
      }
    },
    {
      "cell_type": "code",
      "source": [
        "def fibonacci(n):\n",
        "    # Base cases: fibonacci(0) is 0, fibonacci(1) is 1\n",
        "    if n == 0: return 0\n",
        "    elif n == 1: return 1\n",
        "    # Recursive case: fibonacci(n) = fibonacci(n-1) + fibonacci(n-2)\n",
        "    else: return fibonacci(n - 1) + fibonacci(n - 2)\n",
        "\n",
        "print(\"Fibonacci of 8 is\",fibonacci(8))\n"
      ],
      "metadata": {
        "colab": {
          "base_uri": "https://localhost:8080/"
        },
        "id": "siNRHqvO5en8",
        "outputId": "c27a94af-600c-4793-cd45-4f76339adc2e"
      },
      "execution_count": null,
      "outputs": [
        {
          "output_type": "stream",
          "name": "stdout",
          "text": [
            "Fibonacci of 8 is 21\n"
          ]
        }
      ]
    },
    {
      "cell_type": "markdown",
      "source": [
        "# EXCEPTION AND ERROR HANDLING"
      ],
      "metadata": {
        "id": "fptL1sP7qCWm"
      }
    },
    {
      "cell_type": "markdown",
      "source": [
        "\n",
        "\n",
        "1.  **SyntaxError :**\n",
        "\n",
        " Occurs when the code violates the Python syntax rules.\n",
        "\n",
        "\n"
      ],
      "metadata": {
        "id": "Y_pxW_nP6H9W"
      }
    },
    {
      "cell_type": "code",
      "source": [
        "print(\"Hello, World!\"\n"
      ],
      "metadata": {
        "colab": {
          "base_uri": "https://localhost:8080/",
          "height": 140
        },
        "id": "5fyl9m3_7Zz9",
        "outputId": "bbe12b97-c8ce-4519-9bbb-a339eb40065a"
      },
      "execution_count": null,
      "outputs": [
        {
          "output_type": "error",
          "ename": "SyntaxError",
          "evalue": "ignored",
          "traceback": [
            "\u001b[0;36m  File \u001b[0;32m\"<ipython-input-25-4459da64a047>\"\u001b[0;36m, line \u001b[0;32m1\u001b[0m\n\u001b[0;31m    print(\"Hello, World!\"\u001b[0m\n\u001b[0m                         ^\u001b[0m\n\u001b[0;31mSyntaxError\u001b[0m\u001b[0;31m:\u001b[0m incomplete input\n"
          ]
        }
      ]
    },
    {
      "cell_type": "markdown",
      "source": [
        "2. **IndentationError :**\n",
        "\n",
        " Occurs when there are issues with the indentation of code blocks.\n",
        "\n"
      ],
      "metadata": {
        "id": "3NuFFzos6Q_r"
      }
    },
    {
      "cell_type": "code",
      "source": [
        "if True:\n",
        "print(\"First line\")\n"
      ],
      "metadata": {
        "colab": {
          "base_uri": "https://localhost:8080/",
          "height": 140
        },
        "id": "GHKmAyxa7alz",
        "outputId": "7f6403b7-cca8-4a22-c6d5-f53e1f052bec"
      },
      "execution_count": null,
      "outputs": [
        {
          "output_type": "error",
          "ename": "IndentationError",
          "evalue": "ignored",
          "traceback": [
            "\u001b[0;36m  File \u001b[0;32m\"<ipython-input-28-952674ffee40>\"\u001b[0;36m, line \u001b[0;32m2\u001b[0m\n\u001b[0;31m    print(\"First line\")\u001b[0m\n\u001b[0m    ^\u001b[0m\n\u001b[0;31mIndentationError\u001b[0m\u001b[0;31m:\u001b[0m expected an indented block after 'if' statement on line 1\n"
          ]
        }
      ]
    },
    {
      "cell_type": "markdown",
      "source": [
        "3. **NameError :**\n",
        "\n",
        "  Occurs when a variable or a function is not defined."
      ],
      "metadata": {
        "id": "ZEwBriR96ZUy"
      }
    },
    {
      "cell_type": "code",
      "source": [
        "X = 10\n",
        "print(Y)"
      ],
      "metadata": {
        "id": "1BRt_aTPqJaJ",
        "colab": {
          "base_uri": "https://localhost:8080/",
          "height": 191
        },
        "outputId": "f8225037-f4fe-4ebd-95f6-c1eb1718627f"
      },
      "execution_count": null,
      "outputs": [
        {
          "output_type": "error",
          "ename": "NameError",
          "evalue": "ignored",
          "traceback": [
            "\u001b[0;31m---------------------------------------------------------------------------\u001b[0m",
            "\u001b[0;31mNameError\u001b[0m                                 Traceback (most recent call last)",
            "\u001b[0;32m<ipython-input-23-7d9befca009a>\u001b[0m in \u001b[0;36m<cell line: 2>\u001b[0;34m()\u001b[0m\n\u001b[1;32m      1\u001b[0m \u001b[0mX\u001b[0m \u001b[0;34m=\u001b[0m \u001b[0;36m10\u001b[0m\u001b[0;34m\u001b[0m\u001b[0;34m\u001b[0m\u001b[0m\n\u001b[0;32m----> 2\u001b[0;31m \u001b[0mprint\u001b[0m\u001b[0;34m(\u001b[0m\u001b[0mY\u001b[0m\u001b[0;34m)\u001b[0m\u001b[0;34m\u001b[0m\u001b[0;34m\u001b[0m\u001b[0m\n\u001b[0m",
            "\u001b[0;31mNameError\u001b[0m: name 'Y' is not defined"
          ]
        }
      ]
    },
    {
      "cell_type": "markdown",
      "source": [
        "4. **TypeError :**\n",
        "\n",
        " Occurs when an operation is performed on incompatible data types.\n"
      ],
      "metadata": {
        "id": "m6xXdPFC6mSc"
      }
    },
    {
      "cell_type": "code",
      "source": [
        "a = \"5\"\n",
        "b = 3\n",
        "result = a + b\n"
      ],
      "metadata": {
        "colab": {
          "base_uri": "https://localhost:8080/",
          "height": 208
        },
        "id": "9KKmxbNU7bqQ",
        "outputId": "0550fb94-3110-4d80-b3d3-bb4a6f30744c"
      },
      "execution_count": null,
      "outputs": [
        {
          "output_type": "error",
          "ename": "TypeError",
          "evalue": "ignored",
          "traceback": [
            "\u001b[0;31m---------------------------------------------------------------------------\u001b[0m",
            "\u001b[0;31mTypeError\u001b[0m                                 Traceback (most recent call last)",
            "\u001b[0;32m<ipython-input-29-fa68e5872f06>\u001b[0m in \u001b[0;36m<cell line: 3>\u001b[0;34m()\u001b[0m\n\u001b[1;32m      1\u001b[0m \u001b[0ma\u001b[0m \u001b[0;34m=\u001b[0m \u001b[0;34m\"5\"\u001b[0m\u001b[0;34m\u001b[0m\u001b[0;34m\u001b[0m\u001b[0m\n\u001b[1;32m      2\u001b[0m \u001b[0mb\u001b[0m \u001b[0;34m=\u001b[0m \u001b[0;36m3\u001b[0m\u001b[0;34m\u001b[0m\u001b[0;34m\u001b[0m\u001b[0m\n\u001b[0;32m----> 3\u001b[0;31m \u001b[0mresult\u001b[0m \u001b[0;34m=\u001b[0m \u001b[0ma\u001b[0m \u001b[0;34m+\u001b[0m \u001b[0mb\u001b[0m\u001b[0;34m\u001b[0m\u001b[0;34m\u001b[0m\u001b[0m\n\u001b[0m",
            "\u001b[0;31mTypeError\u001b[0m: can only concatenate str (not \"int\") to str"
          ]
        }
      ]
    },
    {
      "cell_type": "markdown",
      "source": [
        "5. **IndexError :**\n",
        "\n",
        " Occurs when attempting to access an index that is out of range.\n"
      ],
      "metadata": {
        "id": "vc_jfHW96w1P"
      }
    },
    {
      "cell_type": "code",
      "source": [
        "my_list = [1, 2, 3]\n",
        "print(my_list[3])\n"
      ],
      "metadata": {
        "colab": {
          "base_uri": "https://localhost:8080/",
          "height": 191
        },
        "id": "Q_UocBIy7ccY",
        "outputId": "73eecca4-c9c8-4e61-e65a-0fc0058d8d21"
      },
      "execution_count": null,
      "outputs": [
        {
          "output_type": "error",
          "ename": "IndexError",
          "evalue": "ignored",
          "traceback": [
            "\u001b[0;31m---------------------------------------------------------------------------\u001b[0m",
            "\u001b[0;31mIndexError\u001b[0m                                Traceback (most recent call last)",
            "\u001b[0;32m<ipython-input-30-219976c00013>\u001b[0m in \u001b[0;36m<cell line: 2>\u001b[0;34m()\u001b[0m\n\u001b[1;32m      1\u001b[0m \u001b[0mmy_list\u001b[0m \u001b[0;34m=\u001b[0m \u001b[0;34m[\u001b[0m\u001b[0;36m1\u001b[0m\u001b[0;34m,\u001b[0m \u001b[0;36m2\u001b[0m\u001b[0;34m,\u001b[0m \u001b[0;36m3\u001b[0m\u001b[0;34m]\u001b[0m\u001b[0;34m\u001b[0m\u001b[0;34m\u001b[0m\u001b[0m\n\u001b[0;32m----> 2\u001b[0;31m \u001b[0mprint\u001b[0m\u001b[0;34m(\u001b[0m\u001b[0mmy_list\u001b[0m\u001b[0;34m[\u001b[0m\u001b[0;36m3\u001b[0m\u001b[0;34m]\u001b[0m\u001b[0;34m)\u001b[0m\u001b[0;34m\u001b[0m\u001b[0;34m\u001b[0m\u001b[0m\n\u001b[0m",
            "\u001b[0;31mIndexError\u001b[0m: list index out of range"
          ]
        }
      ]
    },
    {
      "cell_type": "markdown",
      "source": [
        "6. **KeyError :**\n",
        "\n",
        " Occurs when accessing a dictionary key that doesn't exist.\n"
      ],
      "metadata": {
        "id": "280jLB_364TB"
      }
    },
    {
      "cell_type": "code",
      "source": [
        "my_dict = {'a': 1, 'b': 2}\n",
        "print(my_dict['c'])\n"
      ],
      "metadata": {
        "colab": {
          "base_uri": "https://localhost:8080/",
          "height": 191
        },
        "id": "S8EugALw7dWz",
        "outputId": "bef8ab5e-a6ee-4919-fbc2-b160000b9cf7"
      },
      "execution_count": null,
      "outputs": [
        {
          "output_type": "error",
          "ename": "KeyError",
          "evalue": "ignored",
          "traceback": [
            "\u001b[0;31m---------------------------------------------------------------------------\u001b[0m",
            "\u001b[0;31mKeyError\u001b[0m                                  Traceback (most recent call last)",
            "\u001b[0;32m<ipython-input-31-855bb7867626>\u001b[0m in \u001b[0;36m<cell line: 2>\u001b[0;34m()\u001b[0m\n\u001b[1;32m      1\u001b[0m \u001b[0mmy_dict\u001b[0m \u001b[0;34m=\u001b[0m \u001b[0;34m{\u001b[0m\u001b[0;34m'a'\u001b[0m\u001b[0;34m:\u001b[0m \u001b[0;36m1\u001b[0m\u001b[0;34m,\u001b[0m \u001b[0;34m'b'\u001b[0m\u001b[0;34m:\u001b[0m \u001b[0;36m2\u001b[0m\u001b[0;34m}\u001b[0m\u001b[0;34m\u001b[0m\u001b[0;34m\u001b[0m\u001b[0m\n\u001b[0;32m----> 2\u001b[0;31m \u001b[0mprint\u001b[0m\u001b[0;34m(\u001b[0m\u001b[0mmy_dict\u001b[0m\u001b[0;34m[\u001b[0m\u001b[0;34m'c'\u001b[0m\u001b[0;34m]\u001b[0m\u001b[0;34m)\u001b[0m\u001b[0;34m\u001b[0m\u001b[0;34m\u001b[0m\u001b[0m\n\u001b[0m",
            "\u001b[0;31mKeyError\u001b[0m: 'c'"
          ]
        }
      ]
    },
    {
      "cell_type": "markdown",
      "source": [
        "7. **ZeroDivisionError :**\n",
        "\n",
        " Occurs when dividing by zero.\n"
      ],
      "metadata": {
        "id": "Du631gPl7Agj"
      }
    },
    {
      "cell_type": "code",
      "source": [
        "x = 10\n",
        "y = 0\n",
        "result = x / y"
      ],
      "metadata": {
        "colab": {
          "base_uri": "https://localhost:8080/",
          "height": 208
        },
        "id": "9dn1YMgi7HeL",
        "outputId": "12f37b30-0f3a-4249-984d-98012e52c3a9"
      },
      "execution_count": null,
      "outputs": [
        {
          "output_type": "error",
          "ename": "ZeroDivisionError",
          "evalue": "ignored",
          "traceback": [
            "\u001b[0;31m---------------------------------------------------------------------------\u001b[0m",
            "\u001b[0;31mZeroDivisionError\u001b[0m                         Traceback (most recent call last)",
            "\u001b[0;32m<ipython-input-32-6b1435450281>\u001b[0m in \u001b[0;36m<cell line: 3>\u001b[0;34m()\u001b[0m\n\u001b[1;32m      1\u001b[0m \u001b[0mx\u001b[0m \u001b[0;34m=\u001b[0m \u001b[0;36m10\u001b[0m\u001b[0;34m\u001b[0m\u001b[0;34m\u001b[0m\u001b[0m\n\u001b[1;32m      2\u001b[0m \u001b[0my\u001b[0m \u001b[0;34m=\u001b[0m \u001b[0;36m0\u001b[0m\u001b[0;34m\u001b[0m\u001b[0;34m\u001b[0m\u001b[0m\n\u001b[0;32m----> 3\u001b[0;31m \u001b[0mresult\u001b[0m \u001b[0;34m=\u001b[0m \u001b[0mx\u001b[0m \u001b[0;34m/\u001b[0m \u001b[0my\u001b[0m\u001b[0;34m\u001b[0m\u001b[0;34m\u001b[0m\u001b[0m\n\u001b[0m",
            "\u001b[0;31mZeroDivisionError\u001b[0m: division by zero"
          ]
        }
      ]
    },
    {
      "cell_type": "markdown",
      "source": [
        "8. **NotImplementedError:**\n",
        "\n",
        " Occurs when a method or function lacks implementation but is called by the code.\n",
        "\n"
      ],
      "metadata": {
        "id": "OCifB7dq7Mur"
      }
    },
    {
      "cell_type": "code",
      "source": [
        "def my_function():\n",
        "   raise NotImplementedError(\"Not Present\")\n",
        "\n",
        "my_function()\n"
      ],
      "metadata": {
        "colab": {
          "base_uri": "https://localhost:8080/",
          "height": 310
        },
        "id": "BrDfRKzJ7eGm",
        "outputId": "a571e8bc-e47a-4120-e422-3abb5a1b7610"
      },
      "execution_count": null,
      "outputs": [
        {
          "output_type": "error",
          "ename": "NotImplementedError",
          "evalue": "ignored",
          "traceback": [
            "\u001b[0;31m---------------------------------------------------------------------------\u001b[0m",
            "\u001b[0;31mNotImplementedError\u001b[0m                       Traceback (most recent call last)",
            "\u001b[0;32m<ipython-input-33-a85e4bf504b3>\u001b[0m in \u001b[0;36m<cell line: 4>\u001b[0;34m()\u001b[0m\n\u001b[1;32m      2\u001b[0m    \u001b[0;32mraise\u001b[0m \u001b[0mNotImplementedError\u001b[0m\u001b[0;34m(\u001b[0m\u001b[0;34m\"Not Present\"\u001b[0m\u001b[0;34m)\u001b[0m\u001b[0;34m\u001b[0m\u001b[0;34m\u001b[0m\u001b[0m\n\u001b[1;32m      3\u001b[0m \u001b[0;34m\u001b[0m\u001b[0m\n\u001b[0;32m----> 4\u001b[0;31m \u001b[0mmy_function\u001b[0m\u001b[0;34m(\u001b[0m\u001b[0;34m)\u001b[0m\u001b[0;34m\u001b[0m\u001b[0;34m\u001b[0m\u001b[0m\n\u001b[0m",
            "\u001b[0;32m<ipython-input-33-a85e4bf504b3>\u001b[0m in \u001b[0;36mmy_function\u001b[0;34m()\u001b[0m\n\u001b[1;32m      1\u001b[0m \u001b[0;32mdef\u001b[0m \u001b[0mmy_function\u001b[0m\u001b[0;34m(\u001b[0m\u001b[0;34m)\u001b[0m\u001b[0;34m:\u001b[0m\u001b[0;34m\u001b[0m\u001b[0;34m\u001b[0m\u001b[0m\n\u001b[0;32m----> 2\u001b[0;31m    \u001b[0;32mraise\u001b[0m \u001b[0mNotImplementedError\u001b[0m\u001b[0;34m(\u001b[0m\u001b[0;34m\"Not Present\"\u001b[0m\u001b[0;34m)\u001b[0m\u001b[0;34m\u001b[0m\u001b[0;34m\u001b[0m\u001b[0m\n\u001b[0m\u001b[1;32m      3\u001b[0m \u001b[0;34m\u001b[0m\u001b[0m\n\u001b[1;32m      4\u001b[0m \u001b[0mmy_function\u001b[0m\u001b[0;34m(\u001b[0m\u001b[0;34m)\u001b[0m\u001b[0;34m\u001b[0m\u001b[0;34m\u001b[0m\u001b[0m\n",
            "\u001b[0;31mNotImplementedError\u001b[0m: Not Present"
          ]
        }
      ]
    }
  ]
}